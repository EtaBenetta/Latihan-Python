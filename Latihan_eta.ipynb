{
  "nbformat": 4,
  "nbformat_minor": 0,
  "metadata": {
    "colab": {
      "name": "Latihan eta.ipynb ",
      "provenance": []
    },
    "kernelspec": {
      "name": "python3",
      "display_name": "Python 3"
    },
    "language_info": {
      "name": "python"
    }
  },
  "cells": [
    {
      "cell_type": "code",
      "execution_count": null,
      "metadata": {
        "colab": {
          "base_uri": "https://localhost:8080/"
        },
        "id": "U2iVtErOcoRv",
        "outputId": "27e74599-0273-4f72-e5a4-fc16de909416"
      },
      "outputs": [
        {
          "output_type": "stream",
          "name": "stdout",
          "text": [
            "Nama saya eta\n"
          ]
        }
      ],
      "source": [
        "print(\"Nama saya eta\")\n"
      ]
    },
    {
      "cell_type": "code",
      "source": [
        "print(4-4)"
      ],
      "metadata": {
        "colab": {
          "base_uri": "https://localhost:8080/"
        },
        "id": "G3sIL0pGg74E",
        "outputId": "b25c564d-5559-4aee-f47b-b0d5739c4892"
      },
      "execution_count": null,
      "outputs": [
        {
          "output_type": "stream",
          "name": "stdout",
          "text": [
            "0\n"
          ]
        }
      ]
    },
    {
      "cell_type": "code",
      "source": [
        "nama =\"benetta\"\n",
        "print(nama)"
      ],
      "metadata": {
        "colab": {
          "base_uri": "https://localhost:8080/"
        },
        "id": "tsI0Yun6kNys",
        "outputId": "aa76aed5-c1c3-413d-d751-9ea2006d7688"
      },
      "execution_count": null,
      "outputs": [
        {
          "output_type": "stream",
          "name": "stdout",
          "text": [
            "benetta\n"
          ]
        }
      ]
    },
    {
      "cell_type": "code",
      "source": [
        "type(nama)"
      ],
      "metadata": {
        "colab": {
          "base_uri": "https://localhost:8080/"
        },
        "id": "l1j5IGQqlWdA",
        "outputId": "1be8e599-1fdf-4aa0-f098-acd22c61cdab"
      },
      "execution_count": null,
      "outputs": [
        {
          "output_type": "execute_result",
          "data": {
            "text/plain": [
              "str"
            ]
          },
          "metadata": {},
          "execution_count": 7
        }
      ]
    },
    {
      "cell_type": "code",
      "source": [
        "sisi = int(input(\"Masukkan angka: \"))\n",
        "luas = sisi*sisi\n",
        "print(\"hasil persegi:\", luas)"
      ],
      "metadata": {
        "colab": {
          "base_uri": "https://localhost:8080/"
        },
        "id": "O8yzs4odnHJM",
        "outputId": "708e906c-665b-4e95-f9d3-de09ef5549cd"
      },
      "execution_count": null,
      "outputs": [
        {
          "output_type": "stream",
          "name": "stdout",
          "text": [
            "Masukkan angka: 9\n",
            "hasil persegi: 81\n"
          ]
        }
      ]
    },
    {
      "cell_type": "code",
      "source": [
        "X = 3\n",
        "if (X%2)==1:\n",
        "  print(\"bilangan ganjil\")\n",
        "\n",
        "if (X==3):\n",
        "  print(\"Tiga\")\n",
        "else\n"
      ],
      "metadata": {
        "colab": {
          "base_uri": "https://localhost:8080/"
        },
        "id": "LDpUyJcUud3R",
        "outputId": "a32da81f-10ee-4590-97b3-bfa0bf048cb5"
      },
      "execution_count": null,
      "outputs": [
        {
          "output_type": "stream",
          "name": "stdout",
          "text": [
            "bilangan ganjil\n",
            "Tiga\n"
          ]
        }
      ]
    },
    {
      "cell_type": "code",
      "source": [
        "x = 3\n",
        "\n",
        "if(X%2 == 1) AND (X==3):\n",
        "  "
      ],
      "metadata": {
        "id": "jq5GUWY8lmhN"
      },
      "execution_count": null,
      "outputs": []
    },
    {
      "cell_type": "code",
      "source": [
        "indexs =[28, 15, 3, 9 ,8]\n",
        "cek=indexs [3]\n",
        "print(cek)"
      ],
      "metadata": {
        "colab": {
          "base_uri": "https://localhost:8080/"
        },
        "id": "batbvnnYpmbN",
        "outputId": "d1c9f7e8-0755-43f4-c564-e9feaec55572"
      },
      "execution_count": 5,
      "outputs": [
        {
          "output_type": "stream",
          "name": "stdout",
          "text": [
            "9\n"
          ]
        }
      ]
    },
    {
      "cell_type": "code",
      "source": [
        "for i in range (0,5):\n",
        "  for j in range (0,i+1):\n",
        "    print(\"*\", end= \" \")\n",
        "  print()"
      ],
      "metadata": {
        "colab": {
          "base_uri": "https://localhost:8080/"
        },
        "id": "HtBjKcRhvRpt",
        "outputId": "df7df7e6-15ad-4683-a3ba-2e9d566166a0"
      },
      "execution_count": 11,
      "outputs": [
        {
          "output_type": "stream",
          "name": "stdout",
          "text": [
            "* \n",
            "* * \n",
            "* * * \n",
            "* * * * \n",
            "* * * * * \n"
          ]
        }
      ]
    },
    {
      "cell_type": "code",
      "source": [
        ""
      ],
      "metadata": {
        "id": "oy1ITtxN1C4V"
      },
      "execution_count": null,
      "outputs": []
    },
    {
      "cell_type": "code",
      "source": [
        "suhu = 0\n",
        "\n",
        "while suhu < 100:\n",
        "  print(suhu)\n",
        "  suhu += 40\n"
      ],
      "metadata": {
        "colab": {
          "base_uri": "https://localhost:8080/"
        },
        "id": "x58Jq-Ys1DCE",
        "outputId": "f4b12fe5-d74a-4db8-af75-ef2406231695"
      },
      "execution_count": 1,
      "outputs": [
        {
          "output_type": "stream",
          "name": "stdout",
          "text": [
            "0\n",
            "40\n",
            "80\n"
          ]
        }
      ]
    },
    {
      "cell_type": "code",
      "source": [
        "nama =str(input(\"Nama Saya:  \"))\n",
        "print (nama)\n",
        "\n",
        "umur =str(input(\"Umur Saya:  \"))\n",
        "print (umur)\n",
        "\n",
        "tempat =str(input(\"Tempat lahir:  \"))\n",
        "print (tempat)\n",
        "\n",
        "tanggal =str(input(\"Tanggal lahir saya adalah:  \"))\n",
        "print (tanggal)\n"
      ],
      "metadata": {
        "colab": {
          "base_uri": "https://localhost:8080/"
        },
        "id": "5_qViol45boV",
        "outputId": "5c619a00-3416-45c8-98ee-6167b37fecf9"
      },
      "execution_count": 2,
      "outputs": [
        {
          "output_type": "stream",
          "name": "stdout",
          "text": [
            "Nama Saya:  Benetta\n",
            "Benetta\n",
            "Umur Saya:  9\n",
            "9\n",
            "Tempat lahir:  pontianak\n",
            "pontianak\n",
            "Tanggal lahir saya adalah:  11\n",
            "11\n"
          ]
        }
      ]
    }
  ]
}